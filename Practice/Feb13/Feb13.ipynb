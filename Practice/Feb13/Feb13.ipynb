{
  "nbformat": 4,
  "nbformat_minor": 0,
  "metadata": {
    "colab": {
      "provenance": []
    },
    "kernelspec": {
      "name": "python3",
      "display_name": "Python 3"
    },
    "language_info": {
      "name": "python"
    }
  },
  "cells": [
    {
      "cell_type": "code",
      "execution_count": 53,
      "metadata": {
        "colab": {
          "base_uri": "https://localhost:8080/"
        },
        "id": "ieObAIjoMFBr",
        "outputId": "e7555d02-4fce-4f58-c13d-7ea8aa21db63"
      },
      "outputs": [
        {
          "output_type": "stream",
          "name": "stdout",
          "text": [
            "This Afternoon \n",
            " 38 \n",
            " Mostly cloudy, with a high near 38. Northwest wind around 13 mph.\n",
            "Tonight \n",
            " 20 \n",
            " A chance of snow showers. Mostly cloudy, with a low around 20. Northwest wind 8 to 17 mph. Chance of precipitation is 40%. New snow accumulation of less than one inch possible.\n",
            "Wednesday \n",
            " 29 \n",
            " A slight chance of snow showers before 10am. Partly sunny, with a high near 29. Northwest wind around 15 mph. Chance of precipitation is 20%. New snow accumulation of less than half an inch possible.\n",
            "Wednesday Night \n",
            " 19 \n",
            " Partly cloudy, with a low around 19. Northwest wind 5 to 12 mph.\n",
            "Thursday \n",
            " 36 \n",
            " Snow showers likely between 1pm and 2pm, then rain and snow showers likely. Partly sunny, with a high near 36. Southwest wind 5 to 14 mph. Chance of precipitation is 70%. New snow accumulation of less than one inch possible.\n",
            "Thursday Night \n",
            " 27 \n",
            " Snow showers likely. Mostly cloudy, with a low around 27. Chance of precipitation is 70%. New snow accumulation of 1 to 2 inches possible.\n",
            "Friday \n",
            " 34 \n",
            " A chance of snow showers before 1pm. Mostly cloudy, with a high near 34. Chance of precipitation is 30%. New snow accumulation of less than half an inch possible.\n",
            "Friday Night \n",
            " 23 \n",
            " A chance of snow showers after 7pm. Mostly cloudy, with a low around 23. Chance of precipitation is 50%. New snow accumulation of 1 to 2 inches possible.\n",
            "Saturday \n",
            " 31 \n",
            " A chance of snow showers. Mostly cloudy, with a high near 31. Chance of precipitation is 50%. New snow accumulation of 1 to 2 inches possible.\n",
            "Saturday Night \n",
            " 19 \n",
            " A chance of snow showers before 7pm. Mostly cloudy, with a low around 19. Chance of precipitation is 30%.\n",
            "Sunday \n",
            " 35 \n",
            " A chance of snow showers between 7am and 4pm, then a chance of rain and snow showers. Partly sunny, with a high near 35. Chance of precipitation is 30%.\n",
            "Sunday Night \n",
            " 22 \n",
            " A chance of snow showers before 7pm. Mostly cloudy, with a low around 22. Chance of precipitation is 30%.\n",
            "Washington's Birthday \n",
            " 36 \n",
            " A slight chance of snow showers between 7am and 2pm, then a slight chance of rain and snow showers. Partly sunny, with a high near 36.\n",
            "Monday Night \n",
            " 23 \n",
            " A slight chance of snow showers before 7pm. Mostly cloudy, with a low around 23.\n"
          ]
        }
      ],
      "source": [
        "#if running in vscode you must pip install requests in the terminal\n",
        "import requests\n",
        "import json\n",
        "\n",
        "lat = \"42.098701\"\n",
        "lon = \"-75.912537\"\n",
        "weather = requests.get(f\"https://api.weather.gov/points/{lat},{lon}\")\n",
        "\n",
        "json_file = weather.json()\n",
        "forecast_request=requests.get(json_file['properties']['forecast'])\n",
        "forecast=forecast_request.json()\n",
        "for section in forecast['properties']['periods']:\n",
        "  day=section['name']\n",
        "  temp=section['temperature']\n",
        "  detailedForecast=section['detailedForecast']\n",
        "  print(day, \"\\n\",temp,\"\\n\",detailedForecast)"
      ]
    },
    {
      "cell_type": "markdown",
      "source": [],
      "metadata": {
        "id": "J0QxC6PJMGEe"
      }
    }
  ]
}
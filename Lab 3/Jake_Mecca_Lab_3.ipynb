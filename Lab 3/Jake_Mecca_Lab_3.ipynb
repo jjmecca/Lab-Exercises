{
  "cells": [
    {
      "cell_type": "code",
      "execution_count": null,
      "id": "3209eaec",
      "metadata": {
        "id": "3209eaec"
      },
      "outputs": [],
      "source": [
        "#1\n",
        "import requests\n",
        "import json\n",
        "lat = input('What is the latitude?')\n",
        "lon = input('What is the longitude?')\n",
        "\n",
        "def address(lat, lon):\n",
        "    weather = requests.get(f\"https://api.weather.gov/points/{lat},{lon}\")\n",
        "    data = weather.json()\n",
        "    return data['properties']['relativeLocation']['properties']['city']\n",
        "print(address(lat, lon))"
      ]
    },
    {
      "cell_type": "code",
      "execution_count": null,
      "id": "dde530ef",
      "metadata": {
        "id": "dde530ef"
      },
      "outputs": [],
      "source": [
        "#2\n",
        "#This gives basic information with the country code\n",
        "country = requests.get('https://date.nager.at/api/v3/CountryInfo/RU')\n",
        "data = country.json()\n",
        "print(json.dumps(data, indent=3))"
      ]
    },
    {
      "cell_type": "code",
      "execution_count": null,
      "id": "bde6ed8a",
      "metadata": {
        "id": "bde6ed8a"
      },
      "outputs": [],
      "source": [
        "#2\n",
        "#This provides you with each country and its country code.\n",
        "country = requests.get('https://date.nager.at/api/v3/AvailableCountries/')\n",
        "cc_data = country.json()\n",
        "print(json.dumps(cc_data, indent=3))"
      ]
    },
    {
      "cell_type": "code",
      "execution_count": null,
      "id": "20ed09ca",
      "metadata": {
        "id": "20ed09ca"
      },
      "outputs": [],
      "source": [
        "#2\n",
        "#This call finds all long weekends in a year by using the data it requests, which includes the year and the country code. The start and end dates, the count, and whether or not a bridge day was needed for the weekend are displayed in a JSON response.\n",
        "country = requests.get('https://date.nager.at/api/v3/LongWeekend/2005/US')\n",
        "data = country.json()\n",
        "print(json.dumps(data, indent=3))\n"
      ]
    },
    {
      "cell_type": "code",
      "execution_count": null,
      "id": "03d0ce19",
      "metadata": {
        "id": "03d0ce19"
      },
      "outputs": [],
      "source": [
        "#2\n",
        "#This gives you info about public holidays in a country in a specific year.\n",
        "country = requests.get('https://date.nager.at/api/v3/PublicHolidays/2005/ME')\n",
        "data = country.json()\n",
        "print(json.dumps(data, indent=3))"
      ]
    },
    {
      "cell_type": "code",
      "execution_count": null,
      "id": "57e3b58d",
      "metadata": {
        "id": "57e3b58d"
      },
      "outputs": [],
      "source": [
        "#2\n",
        "#This gives you a list of the next public holidays of the specified country.\n",
        "country = requests.get('https://date.nager.at/api/v3/NextPublicHolidays/US')\n",
        "data = country.json()\n",
        "print(json.dumps(data, indent=3))"
      ]
    },
    {
      "cell_type": "code",
      "execution_count": null,
      "id": "d5a4493d",
      "metadata": {
        "id": "d5a4493d"
      },
      "outputs": [],
      "source": [
        "#2\n",
        "#This gives you the next public holidays from every country, along with a bunch of other data.\n",
        "country = requests.get('https://date.nager.at/api/v3/NextPublicHolidaysWorldwide')\n",
        "data = country.json()\n",
        "print(json.dumps(data, indent=3))"
      ]
    },
    {
      "cell_type": "code",
      "execution_count": null,
      "id": "d1f2e661",
      "metadata": {
        "id": "d1f2e661"
      },
      "outputs": [],
      "source": [
        "#2\n",
        "#This just provides you with whatever version of the API we are using.\n",
        "version = requests.get('https://date.nager.at/api/v3/Version')\n",
        "data = version.json()\n",
        "print(json.dumps(data, indent=3))"
      ]
    },
    {
      "cell_type": "code",
      "execution_count": null,
      "id": "905ddcd6",
      "metadata": {
        "id": "905ddcd6"
      },
      "outputs": [],
      "source": [
        "#3\n",
        "try:\n",
        "    code = input('What is your country code?')\n",
        "    country = requests.get(f'https://date.nager.at/api/v3/PublicHolidays/2020/{code}')\n",
        "    days = len(country.json())\n",
        "    print(f'This country has {days} holdays')\n",
        "except ValueError:\n",
        "    print(\"No data available for this country\")"
      ]
    },
    {
      "cell_type": "code",
      "execution_count": null,
      "id": "1553ad7b",
      "metadata": {
        "id": "1553ad7b"
      },
      "outputs": [],
      "source": [
        "#4\n",
        "#This API is called Today in History API. It gives you important events that occurred throughout history on a date.\n",
        "#This call is very simple, it just provides you with important events and years that happened in history on the current date.\n",
        "history = requests.get('http://history.muffinlabs.com/date')\n",
        "data = history.json()\n",
        "print(json.dumps(data, indent=3))"
      ]
    },
    {
      "cell_type": "code",
      "execution_count": null,
      "id": "652eca9d",
      "metadata": {
        "id": "652eca9d"
      },
      "outputs": [],
      "source": [
        "#4\n",
        "#This call allows you to enter a specific date rather than whatever the current date is\n",
        "date=input(\"Give me a date (M/D): \")\n",
        "specific_date = requests.get(f'http://history.muffinlabs.com/date/{date}')\n",
        "data = specific_date.json()\n",
        "print(json.dumps(data, indent=3))"
      ]
    },
    {
      "cell_type": "code",
      "execution_count": null,
      "id": "6d624578",
      "metadata": {
        "id": "6d624578"
      },
      "outputs": [],
      "source": []
    }
  ],
  "metadata": {
    "kernelspec": {
      "display_name": "Python 3 (ipykernel)",
      "language": "python",
      "name": "python3"
    },
    "language_info": {
      "codemirror_mode": {
        "name": "ipython",
        "version": 3
      },
      "file_extension": ".py",
      "mimetype": "text/x-python",
      "name": "python",
      "nbconvert_exporter": "python",
      "pygments_lexer": "ipython3",
      "version": "3.11.1"
    },
    "colab": {
      "provenance": []
    }
  },
  "nbformat": 4,
  "nbformat_minor": 5
}
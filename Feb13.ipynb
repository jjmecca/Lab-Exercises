{
  "nbformat": 4,
  "nbformat_minor": 0,
  "metadata": {
    "colab": {
      "provenance": [],
      "authorship_tag": "ABX9TyMcfNsQPo8Avqm7L6bADcEN",
      "include_colab_link": true
    },
    "kernelspec": {
      "name": "python3",
      "display_name": "Python 3"
    },
    "language_info": {
      "name": "python"
    }
  },
  "cells": [
    {
      "cell_type": "markdown",
      "metadata": {
        "id": "view-in-github",
        "colab_type": "text"
      },
      "source": [
        "<a href=\"https://colab.research.google.com/github/jjmecca/Lab-Exercises/blob/main/Feb13.ipynb\" target=\"_parent\"><img src=\"https://colab.research.google.com/assets/colab-badge.svg\" alt=\"Open In Colab\"/></a>"
      ]
    },
    {
      "cell_type": "code",
      "execution_count": null,
      "metadata": {
        "colab": {
          "base_uri": "https://localhost:8080/"
        },
        "id": "ieObAIjoMFBr",
        "outputId": "f7799b53-7333-429f-eddd-dedb9f6dc0de"
      },
      "outputs": [
        {
          "output_type": "stream",
          "name": "stdout",
          "text": [
            "Tonight\n",
            "20\n",
            "A chance of snow showers. Mostly cloudy, with a low around 20. Northwest wind 8 to 17 mph. Chance of precipitation is 40%. New snow accumulation of less than one inch possible.\n"
          ]
        }
      ],
      "source": [
        "#if running in vscode you must pip install requests in the terminal\n",
        "import requests\n",
        "import json\n",
        "\n",
        "lat = \"42.098701\"\n",
        "lon = \"-75.912537\"\n",
        "weather = requests.get(f\"https://api.weather.gov/points/{lat},{lon}\")\n",
        "\n",
        "json_file = weather.json()\n",
        "forecast_request=requests.get(json_file['properties']['forecast'])\n",
        "forecast=forecast_request.json()\n",
        "print(forecast['properties']['periods'][1]['name'])\n",
        "print(forecast['properties']['periods'][1]['temperature'])\n",
        "print(forecast['properties']['periods'][1]['detailedForecast'])"
      ]
    },
    {
      "cell_type": "markdown",
      "source": [],
      "metadata": {
        "id": "J0QxC6PJMGEe"
      }
    }
  ]
}